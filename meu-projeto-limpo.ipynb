{
  "cells": [
    {
      "cell_type": "markdown",
      "source": [
        "# Projeto: Classificação de Diabetes com Azure AutoML\n",
        "\n",
        "Este notebook demonstra o processo de ponta-a-ponta para treinar um modelo de classificação usando o **Azure Machine Learning SDK v2** e o **Automated ML (AutoML)**.\n",
        "\n",
        "O objetivo é prever a probabilidade de um paciente ter diabetes com base nos seus dados de saúde.\n",
        "\n",
        "**Processo:**\n",
        "1.  Conectar ao Workspace do Azure ML.\n",
        "2.  Criar e Registrar o Ativo de Dados (Data Asset).\n",
        "3.  Configurar e submeter o job de Automated ML.\n",
        "4.  Analisar os resultados no Azure ML Studio."
      ],
      "metadata": {
        "nteract": {
          "transient": {
            "deleting": false
          }
        }
      }
    },
    {
      "cell_type": "markdown",
      "source": [
        "## 1. Configuração do Ambiente\n",
        "\n",
        "Primeiro, vamos importar as bibliotecas necessárias e verificar a versão do SDK do Azure ML."
      ],
      "metadata": {
        "nteract": {
          "transient": {
            "deleting": false
          }
        }
      }
    },
    {
      "cell_type": "code",
      "source": [
        "# Verificar a versão do SDK\n",
        "!pip show azure-ai-ml"
      ],
      "outputs": [],
      "execution_count": null,
      "metadata": {}
    },
    {
      "cell_type": "markdown",
      "source": [
        "## 2. Conectar ao Workspace\n",
        "\n",
        "Agora, vamos nos conectar ao nosso Workspace do Azure ML. Usamos o `DefaultAzureCredential` para autenticar e, em seguida, o `MLClient` para gerenciar os recursos do workspace."
      ],
      "metadata": {
        "nteract": {
          "transient": {
            "deleting": false
          }
        }
      }
    },
    {
      "cell_type": "code",
      "source": [
        "from azure.identity import DefaultAzureCredential, InteractiveBrowserCredential\n",
        "from azure.ai.ml import MLClient\n",
        "\n",
        "try:\n",
        "    credential = DefaultAzureCredential()\n",
        "    # Verifica se a credencial padrão funciona\n",
        "    credential.get_token(\"https://management.azure.com/.default\")\n",
        "except Exception as ex:\n",
        "    # Se falhar, usa a autenticação interativa (abre um browser)\n",
        "    credential = InteractiveBrowserCredential()"
      ],
      "outputs": [],
      "execution_count": null,
      "metadata": {}
    },
    {
      "cell_type": "code",
      "source": [
        "# Carrega os detalhes do workspace a partir do config.json\n",
        "ml_client = MLClient.from_config(credential=credential)\n",
        "\n",
        "# Imprime o nome do workspace para confirmar a conexão\n",
        "print(f\"Conectado ao workspace: {ml_client.workspace_name}\")"
      ],
      "outputs": [],
      "execution_count": null,
      "metadata": {}
    },
    {
      "cell_type": "markdown",
      "source": [
        "## 3. Criar e Registrar o Ativo de Dados (Data Asset)\n",
        "\n",
        "Esta é uma etapa crucial. O notebook original do tutorial assume que o *data asset* (ativo de dados) já existe, o que causa o erro `path can't be empty`.\n",
        "\n",
        "Vamos corrigir isso: vamos pegar os arquivos de dados locais (a pasta `diabetes-data` que está neste mesmo diretório do notebook), carregá-los para o *datastore* padrão do Azure e registrá-los como um **Ativo de Dados** chamado `diabetes-training`."
      ],
      "metadata": {
        "nteract": {
          "transient": {
            "deleting": false
          }
        }
      }
    },
    {
      "cell_type": "code",
      "source": [
        "from azure.ai.ml.entities import Data\n",
        "from azure.ai.ml.constants import AssetTypes\n",
        "\n",
        "# 1. Define o caminho local para os dados\n",
        "# O './' significa 'nesta pasta atual'\n",
        "local_data_path = \"./diabetes-data/\"\n",
        "\n",
        "# 2. Define o Data Asset\n",
        "# Damos a ele o nome 'diabetes-training', que o resto do notebook espera\n",
        "my_data = Data(\n",
        "    path=local_data_path,\n",
        "    type=AssetTypes.MLTABLE,\n",
        "    description=\"Diabetes training data MLTable for AutoML\",\n",
        "    name=\"diabetes-training\"  # <-- Este é o nome que o job procura\n",
        ")\n",
        "\n",
        "# 3. Cria (ou atualiza) o Data Asset.\n",
        "# Isto faz o UPLOAD dos arquivos locais para o Azure\n",
        "ml_client.data.create_or_update(my_data)\n",
        "\n",
        "print(f\"Ativo de dados 'diabetes-training' criado com sucesso a partir do caminho {local_data_path}\")"
      ],
      "outputs": [],
      "execution_count": null,
      "metadata": {}
    },
    {
      "cell_type": "markdown",
      "source": [
        "## 4. Definir a Entrada do Job de Treinamento\n",
        "\n",
        "Agora que temos certeza de que o ativo de dados `diabetes-training:1` existe, podemos criar uma **Entrada (Input)** que o referencie. É esta entrada que passaremos para o nosso job de AutoML."
      ],
      "metadata": {
        "nteract": {
          "transient": {
            "deleting": false
          }
        }
      }
    },
    {
      "cell_type": "code",
      "source": [
        "from azure.ai.ml.constants import AssetTypes\n",
        "from azure.ai.ml import Input\n",
        "\n",
        "# Cria uma referência (um \"atalho\") para o ativo de dados que acabamos de criar\n",
        "my_training_data_input = Input(\n",
        "    type=AssetTypes.MLTABLE, \n",
        "    path=\"azureml:diabetes-training:1\" # Sintaxe: azureml:<nome-do-ativo>:<versao>\n",
        ")"
      ],
      "outputs": [],
      "execution_count": null,
      "metadata": {}
    },
    {
      "cell_type": "markdown",
      "source": [
        "## 5. Configurar o Job de Automated ML\n",
        "\n",
        "Com os dados prontos, vamos configurar o job de AutoML.\n",
        "Vamos definir:\n",
        "* **A tarefa:** `classification` (classificação).\n",
        "* **O cluster:** `aml-cluster` (o nome do cluster de computação que você criou).\n",
        "* **Os dados de treino:** A entrada que definimos acima.\n",
        "* **A coluna alvo:** `Diabetic` (o que queremos prever).\n",
        "* **A métrica principal:** `AUC_weighted` (uma métrica robusta para classificação).\n",
        "* **Limites:** Vamos limitar o job a 5 \"trials\" (modelos) para que ele termine rápido."
      ],
      "metadata": {
        "nteract": {
          "transient": {
            "deleting": false
          }
        }
      }
    },
    {
      "cell_type": "code",
      "source": [
        "from azure.ai.ml import automl\n",
        "\n",
        "# Configura o job de classificação\n",
        "classification_job = automl.classification(\n",
        "    compute=\"aml-cluster\", # <--- Verifique se este é o nome do seu cluster\n",
        "    experiment_name=\"diabetes-classification-automl-project\", # Um nome profissional para o seu experimento\n",
        "    training_data=my_training_data_input,\n",
        "    target_column_name=\"Diabetic\",\n",
        "    primary_metric=\"AUC_weighted\", # AUC é geralmente melhor que 'accuracy'\n",
        "    n_cross_validations=5,\n",
        "    enable_model_explainability=True\n",
        ")\n",
        "\n",
        "# Define os limites (para o job não rodar para sempre)\n",
        "classification_job.set_limits(\n",
        "    timeout_minutes=60, \n",
        "    max_trials=5, # Limita a 5 modelos diferentes\n",
        "    enable_early_termination=True,\n",
        ")"
      ],
      "outputs": [],
      "execution_count": null,
      "metadata": {}
    },
    {
      "cell_type": "markdown",
      "source": [
        "## 6. Submeter o Job e Monitorar\n",
        "\n",
        "Finalmente, submetemos o job para o Azure ML. O `ml_client` nos dará um link para monitorar o progresso em tempo real no Azure ML Studio."
      ],
      "metadata": {
        "nteract": {
          "transient": {
            "deleting": false
          }
        }
      }
    },
    {
      "cell_type": "code",
      "source": [
        "# Submete o job para o Azure\n",
        "returned_job = ml_client.jobs.create_or_update(\n",
        "    classification_job\n",
        ")  \n",
        "\n",
        "# Imprime o link do Studio para monitorar o job\n",
        "aml_url = returned_job.studio_url\n",
        "print(f\"Job submetido! Monitore o progresso em: {aml_url}\")"
      ],
      "outputs": [],
      "execution_count": null,
      "metadata": {}
    },
    {
      "cell_type": "markdown",
      "source": [
        "## 7. Próximos Passos\n",
        "\n",
        "O job está em execução no Azure. Clique no link acima para ir ao Azure ML Studio.\n",
        "\n",
        "Lá, você poderá ver:\n",
        "1.  O job mudar de \"Pendente\" (Queued) para \"Em Execução\" (Running).\n",
        "2.  Na aba **\"Modelos + tarefas filhas\"**, os modelos começarão a aparecer à medida que são treinados.\n",
        "3.  Quando o job for **\"Concluído\" (Completed)**, você poderá selecionar o melhor modelo.\n",
        "4.  Clique no melhor modelo e vá até a aba **\"Explicações\"** para ver o dashboard de explicabilidade do modelo (SHAP) e entender quais features (como Glicose, Idade, etc.) são mais importantes."
      ],
      "metadata": {
        "nteract": {
          "transient": {
            "deleting": false
          }
        }
      }
    }
  ],
  "metadata": {
    "kernelspec": {
      "name": "python310-sdkv2",
      "language": "python",
      "display_name": "Python 3.10 - SDK v2"
    },
    "language_info": {
      "name": "python",
      "version": "3.10.18",
      "mimetype": "text/x-python",
      "codemirror_mode": {
        "name": "ipython",
        "version": 3
      },
      "pygments_lexer": "ipython3",
      "nbconvert_exporter": "python",
      "file_extension": ".py"
    },
    "kernel_info": {
      "name": "python310-sdkv2"
    },
    "nteract": {
      "version": "nteract-front-end@1.0.0"
    }
  },
  "nbformat": 4,
  "nbformat_minor": 2
}